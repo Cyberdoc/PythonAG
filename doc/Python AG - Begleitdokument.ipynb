{
 "cells": [
  {
   "cell_type": "markdown",
   "metadata": {},
   "source": [
    "# Python programmieren lernen\n",
    "\n",
    "Die AG befasst sich mit der Programmierung in Python, auf einem Raspberry Pi, wir verwenden dabei Python 3. \n",
    "\n",
    "Durch die Verwendung des Raspberry Pi ist es möglich, sich nicht rein auf den Bildschirm und Tastatur als Ausgabe- und Eingabemedium zu beziehen, es ist auch möglich über die Schnittstellen des Pi mit einfachen Elektronik Komponenten zu arbeiten.\n",
    "\n",
    "Dieses Dokument soll als Hilfe zur Verfügung stehen und über das ganze Schuljahr wachsen, mit den Informationen, die in der Schule bearbeitet werden.\n",
    "\n",
    "Begonnen wird mit einer sehr kurzen Einführung des Raspberry Pi, um dann schnell zur Programmierung mit Python zu kommen.\n",
    "\n",
    "## Raspberry Pi\n",
    "\n",
    "Der Raspberry Pi wird von einer englische Non-Profit Organisation entwickelt. Ziel der Organisation ist, dass Schüler einen einfachen und kostengünstigen Einstieg in die Welt der Computer erhalten.\n",
    "\n",
    "### Bezugsquelle\n",
    "\n",
    "Das hier verwendete Set, kann [hier](https://www.sertronics-shop.de/raspberry-pi-co/raspberry-pi/boards-kits/4176/raspberry-pi-3-modell-b-full-starterkit-schwarz) erworben werden. Alternativ kann man sich auch Sets bei Conrad, Reichelt, ELV oder Amazon kaufen (preislich gibt es nur minimale unterschiede).\n",
    "\n",
    "### Installation\n",
    "\n",
    "Nach dem \"Zusammenbau\" des Raspberry Pi muss man die microSD Karte mit einem Raspberry Pi Image bespielen. Wir verwenden hier Raspbian, welches von der Raspberry Pi Foundation angeboten wird.\n",
    "\n",
    "Bezogen werden kann es direkt von der Webseite der Foundation, von [hier](https://www.raspberrypi.org/downloads/raspbian/)  die Version mit Desktop herunterladen.\n",
    "\n",
    "Um das Image aus dem heruntergeladenen ZIP auf die SD Karte zu bekommen, verwendet man am einfachsten [Etcher](https://etcher.io/), welches für alle gängigen Betriebsysteme kostenlos zur Verfügung steht.\n",
    "\n",
    "Nach dem das ZIP entpackt und Etcher installiert wurde, startet man Etcher und bekommt direkt das Bedienerfreundliche UI von Etcher angezeigt. Einfach **Select image** anklicken und das zuvor ausgepackte Raspbian Image auswählen. \n",
    "\n",
    "![Etcher UI](etcher.png \"Etcher UI\")\n",
    "\n",
    "Im nächsten Schritt die korrekte microSD Karte auswählen, falls mehrere externe Speichermedien am Rechner vorhanden sind. Im letzten Schritt mit **Flash!** das Image auf die Karte schreiben. Hier kann es vorkommen, dass man dies noch mal durch eingabe des Benutzerpassworts (oder das Passwort eines Administrators) bestätigen muss.\n",
    "\n",
    "Ist der Schreibvorgang abgeschlossen, kann man die mircoSD Karte entnehmen und in den Raspberry Pi einsetzen. Jetzt alle Kabel am Raspberry Pi anschließen und als letztes mit Strom verbinden.\n",
    "Beim ersten Start von Raspbian muss man noch manche Installationsschritte, wie welches Sprache verwendet wird, durchegehen (den Anweisung auf dem Bildschirm folgen).\n",
    "\n",
    "Jetzt ist der Pi einsatzfähig.\n",
    "\n",
    "### Starten von Python\n",
    "\n",
    "Der einfachste Weg um mit der Entwicklung in Python zu starten, ist das Ausführen der Python IDLE (IDLE = Integrated Development and Learning Environment, könnte Passen, oder der Name kommt wirklich von Eric Idle, einem Mitglied von Monty Python Comedy-Gruppe), dafür öffnet man das Menü *__Himbeere__ -> Entwicklung -> Python 3 (IDLE)*.\n",
    "\n",
    "![IDLE starten](python_idle.png \"IDLE starten\")\n",
    "\n",
    "Startet man Python IDLE, da öffnet sich direkt ein Fenster, welches auf eine Eingabe wartet, was durch \">>>\" signalisiert wird, dies ist die Python Shell (oder auch REPL = Read Eval Print Loop).\n",
    "\n",
    "Wie in jeder Programmiersprache, ist der Einstieg ein \"Hello World\", welcher Dank REPL in einer Zeile daherkommt."
   ]
  },
  {
   "cell_type": "code",
   "execution_count": 1,
   "metadata": {},
   "outputs": [
    {
     "name": "stdout",
     "output_type": "stream",
     "text": [
      "Hello World\n"
     ]
    }
   ],
   "source": [
    ">>> print(\"Hello World\")"
   ]
  },
  {
   "cell_type": "markdown",
   "metadata": {},
   "source": []
  }
 ],
 "metadata": {
  "kernelspec": {
   "display_name": "Python 3",
   "language": "python",
   "name": "python3"
  },
  "language_info": {
   "codemirror_mode": {
    "name": "ipython",
    "version": 3
   },
   "file_extension": ".py",
   "mimetype": "text/x-python",
   "name": "python",
   "nbconvert_exporter": "python",
   "pygments_lexer": "ipython3",
   "version": "3.6.5"
  }
 },
 "nbformat": 4,
 "nbformat_minor": 2
}
