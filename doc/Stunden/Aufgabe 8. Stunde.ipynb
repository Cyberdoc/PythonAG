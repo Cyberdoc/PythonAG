{
 "cells": [
  {
   "cell_type": "markdown",
   "metadata": {},
   "source": [
    "# Aufgabe\n",
    "\n",
    "In einem neuen Skript lege folgendes Programm an:  \n",
    "\n",
    "1) Bestimme die Position des Spielers  \n",
    "2) Setze 60 Blöcke über dem Spieler einen Steinblock  \n",
    "3) Schreibe in den Chat 'Gleich geht es nach oben'  \n",
    "4) Warte 4 Sekunden  \n",
    "5) Positioniere den Spieler auf dem Block in der Höhe  \n",
    "6) Schreibe \"Gleich geht es abwärts!\" in den Chat  \n",
    "7) Warte 4 Sekunden  \n",
    "8) Lösche den zuvor platzierten Block \n",
    "\n",
    "## Benötige Befehle:\n",
    "### Minecraft Verbindung herstellen\n",
    "```\n",
    "from mcpi import minecraft\n",
    "mc = minecraft.Minecraft.create()\n",
    "```\n",
    "### Position des Spieler ermitteln\n",
    "```\n",
    "pos = mc.player.getPos()\n",
    "```\n",
    "__pos__ ist dabei eine Variable mit den drei Koordinaten x,y,z (__pos.x__, __pos.y__, __pos.z__)  \n",
    "### Position des Spieler setzen\n",
    "```\n",
    "mc.player.setPos(pos)\n",
    "```\n",
    "oder\n",
    "```\n",
    "mc.player.setPos(x, y, z)\n",
    "```\n",
    "### Block setzen\n",
    "```\n",
    "mc.setBlock(x, y, z [, typeId])\n",
    "```\n",
    "Die Werte x,y,z sind Pflicht, __typeId__ ist optional.  \n",
    "Mögliche Typen (ein Auszug):\n",
    "__0__ = Luft / __1__ = Stein / __2__ = Gras / __3__ = Erde/Dreck\n",
    "\n",
    "### Nachricht in den Chat schreiben\n",
    "```\n",
    "mc.postToChat(text)\n",
    "```\n",
    "### Programmablauf unterbrechen\n",
    "```\n",
    "import time\n",
    "time.sleep(seconds)\n",
    "```"
   ]
  }
 ],
 "metadata": {
  "kernelspec": {
   "display_name": "Python 3",
   "language": "python",
   "name": "python3"
  },
  "language_info": {
   "codemirror_mode": {
    "name": "ipython",
    "version": 3
   },
   "file_extension": ".py",
   "mimetype": "text/x-python",
   "name": "python",
   "nbconvert_exporter": "python",
   "pygments_lexer": "ipython3",
   "version": "3.6.5"
  }
 },
 "nbformat": 4,
 "nbformat_minor": 2
}
