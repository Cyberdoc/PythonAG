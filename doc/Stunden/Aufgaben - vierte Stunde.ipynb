{
 "cells": [
  {
   "cell_type": "markdown",
   "metadata": {},
   "source": [
    "## Aufgabe 1\n",
    "\n",
    "Erstelle ein Python Skript, um den Notendurchschnitt nach der Klassenarbeit zu berechnen.\n",
    "\n",
    "Die Schüler haben folgende Noten:\n",
    "* Leon 3\n",
    "* Max 2+ (1,75)\n",
    "* Tina 2\n",
    "* Ünsal 2\n",
    "* Sabine 3+ (2,75)\n",
    "* Lukas 4\n",
    "* Tom 5\n",
    "* Marie-Sophie 1\n",
    "* Jonas 2- (2,25)\n",
    "* Luis 1\n",
    "* Mia 3\n",
    "\n",
    "1.)  \n",
    "Berechne den Notendurchschnitt auf eine Nachkommastelle, lege für jeden Schüler eine Variable mit seinem Namen an (beachte dabei die Regeln für Variablennamen). Der Durchschnitt soll in einer Variablen mit sprechendem Namen gespeichert werden. \n",
    "Abschließend soll das Ergebnis mit einer entsprechenden Meldung ausgegeben werden.\n",
    "\n",
    "2.)  \n",
    "Tina musste nachschreiben, sie hat eine 1- (1,25) geschrieben. \n",
    "Passe das Skript entsprechend an und errechne den neuen Durchschnitt.  \n",
    "\n",
    "\n",
    "Notenschnitt: ________________\n",
    "\n",
    "3.)  \n",
    "Lukas hat noch mal die Punkte zusammengezählt und hat dabei einen Fehler entdeckt. Nachdem er den Lehrer davon in Kenntnis gesetzt hat, wird seine Note auf 3 verbessert.\n",
    "Passe das Skript entsprechend an und errechne den neuen Durchschnitt.  \n",
    "\n",
    "\n",
    "Notenschnitt: ________________\n",
    "\n",
    "## Aufgabe 2\n",
    "\n",
    "Erstelle ein neues Python Skript.\n",
    "\n",
    "1. Importiere die Library Array und lege folgendes Array an, welches in einer Variable myArray gespeichert werden soll:  \n",
    "myArray = [5, 4, 2, 3, 5, 8, 9, 0, 2]\n",
    "2. Das Array ausgibt\n",
    "3. Die Anzahl Einträge ausgibt\n",
    "4. Das Array umdreht  \n",
    "5. Einen weiteren Eintrag mit dem Wert 5 anhängt\n",
    "6. Die Anzahl von 5en im Array ausgeben lässt"
   ]
  }
 ],
 "metadata": {
  "kernelspec": {
   "display_name": "Python 3",
   "language": "python",
   "name": "python3"
  },
  "language_info": {
   "codemirror_mode": {
    "name": "ipython",
    "version": 3
   },
   "file_extension": ".py",
   "mimetype": "text/x-python",
   "name": "python",
   "nbconvert_exporter": "python",
   "pygments_lexer": "ipython3",
   "version": "3.6.5"
  }
 },
 "nbformat": 4,
 "nbformat_minor": 2
}
