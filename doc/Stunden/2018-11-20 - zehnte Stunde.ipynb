{
 "cells": [
  {
   "cell_type": "markdown",
   "metadata": {},
   "source": [
    "* Was ist eine Bedingung/Verzweigung?\n",
    "* Aufbau eines Konstrukts: \"Wenn A dann mache das und sonst mache jenes\"?\n",
    "* Aufbeu eines Konstrukts: \"Wenn A dann mache das, wenn B mache dies und sonst mache jenes\"?\n",
    "* Was muss man bei den Zeilen im \"if\"/\"elif\"/\"else\" Teil beachten?\n",
    "\n",
    "### 14:15 - Eingabeparameter\n",
    "\n",
    "```\n",
    "<string - variable> = input(<text>)\n",
    "```\n",
    "### 14:20 - Aufgabe 1\n",
    "\n",
    "Erstellt ein neues Skript, welches zwei Werte einliest (a, b) und diese via print ausgibt.\n",
    "\n",
    "### 14:30 - Bedingungen verknüpfen\n",
    "\n",
    "#### ODER - or\n",
    "```\n",
    "if <Bedingung1> or <Bedingung2>:\n",
    "    <Verarbeitungsblock>\n",
    "```  \n",
    "Wenn EINE Bedingung erfüllt wird, dass führe den Verarbeitungsblock aus\n",
    "\n",
    "#### UND - and\n",
    "```\n",
    "if <Bedingung1> and <Bedingung2>:\n",
    "    <Verarbeitungsblock>\n",
    "```\n",
    "Wenn BEIDE Bedingung erfüllt werden, dass führe den Verarbeitungsblock aus\n",
    "\n",
    "### 14:35 - Aufgabe 2\n",
    "\n",
    "Erweitere das Programm aus Aufgabe 1 - __führe keine unnötigen if-Prüfungen durch__: \n",
    "* Ist a > 5, gib den Text \"a ist größer 5\" aus \n",
    "* Ist b < 10, gib den Text \"b ist kleiner 5\" aus\n",
    "* Ist a > 5 und b > 5, gib den Text \"a und b sind größer 5\" aus\n",
    "* Ist der Rest von a geteilt durch b gleich null, gib den Text \"b ist ein Teiler von a\" aus\n",
    "* Ist a > b oder b < 5, gib den Text \"b ist ja ziemlich klein\" aus\n",
    "\n",
    "### 14:45 - While Schleife\n",
    "\n",
    "### 14:50 - Aufgabe 3\n",
    "\n",
    "* Ist a < b, dann erhöhe a solange um den Wert 1, bis a gleich b ist\n",
    "* Ist a > b, dann erhöhe b solange um den Wert 1, bis b gleich a ist\n",
    "\n",
    "Gibt in jedem Schleifendurchlauf die Werte von a und b aus."
   ]
  }
 ],
 "metadata": {
  "kernelspec": {
   "display_name": "Python 3",
   "language": "python",
   "name": "python3"
  },
  "language_info": {
   "codemirror_mode": {
    "name": "ipython",
    "version": 3
   },
   "file_extension": ".py",
   "mimetype": "text/x-python",
   "name": "python",
   "nbconvert_exporter": "python",
   "pygments_lexer": "ipython3",
   "version": "3.6.5"
  }
 },
 "nbformat": 4,
 "nbformat_minor": 2
}
