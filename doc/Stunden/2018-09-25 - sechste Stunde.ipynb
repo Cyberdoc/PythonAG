{
 "cells": [
  {
   "cell_type": "markdown",
   "metadata": {},
   "source": [
    "### 13:45 Aufbau + Wiederholung\n",
    "* Was sind Bibliotheken? Warum verwendet man diese?\n",
    "* Wie bindet man diese in das eigene Programm ein?\n",
    "* Wiederholung mit math.gcd() (ggT)  \n",
    "\n",
    "### 14:10 \n",
    "Im nächsten Schritt wollen wir mittels Python auf die Minecraft Welt des Raspberry Pi einfluss nehmen. Dazu verwenden wir die Library __mcpi__ und daraus das Unterpaket __minecraft__.\n",
    "\n",
    "Man muss sich mittels ```Minecraft.create()``` mit dem laufenden Minecraft verbinden und kann dann direkt interagieren.\n",
    "\n",
    "Das einfachste Beispiel ist hier einen Text in den Minecraft Chat zu schreiben  \n",
    "```\n",
    "from mcpi import minecraft\n",
    "mc = minecraft.Minecraft.create()\n",
    "mc.postToChat(\"Hallo Minecraft\")\n",
    "```  \n",
    "### 14:25\n",
    "Mit dem Befehl ```mc.player.getPos()```, bekommt man die aktuelle Position des Spielers ausgegeben. Diese ist in x, y, z aufgeteilt. Mit dem Befehl ```setPos()``` und den Koordinaten (x,y,z) als Parameter, kann man den Spieler dann an einen beliebigen Ort stellen.\n",
    "### 14:30\n",
    "Mittels dem Befehl ```setBlock(x, y, z [,id])``` kann an der angegebenen Koordinate, einen Block platzieren. Mit dem optionalen Parameter __id__ wird die Art des Blocks definiert, Beispiel für Block Typen:\n",
    "\n",
    "| ID | Typ        |\n",
    "|----|------------|\n",
    "| 0  | Luft       |\n",
    "| 1  | Stein      |\n",
    "| 2  | Gras       |\n",
    "| 3  | Erde/Dreck |\n",
    "### 14:45\n",
    "Es ist auch Möglich Blöcke als Konstanten (vordefinierte Variablen), zu laden.  \n",
    "```\n",
    "from mcpi import block\n",
    "mc.setBlock(x, y, z, block.DIRT.id)\n",
    "```  \n",
    "### 14:55\n",
    "Mehrere Blocks kann man mit dem Befehl setBlocks(x1, y1, z1, x2, y2, z2, id) setzen, wobei x1,y1,z1 die Startposition setzt und x2,y2,z2 die Endposition\n",
    "### 15:00 Abbau"
   ]
  }
 ],
 "metadata": {
  "kernelspec": {
   "display_name": "Python 3",
   "language": "python",
   "name": "python3"
  },
  "language_info": {
   "codemirror_mode": {
    "name": "ipython",
    "version": 3
   },
   "file_extension": ".py",
   "mimetype": "text/x-python",
   "name": "python",
   "nbconvert_exporter": "python",
   "pygments_lexer": "ipython3",
   "version": "3.6.5"
  }
 },
 "nbformat": 4,
 "nbformat_minor": 2
}
