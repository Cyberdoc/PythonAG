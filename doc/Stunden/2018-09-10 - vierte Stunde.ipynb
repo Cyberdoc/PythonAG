{
 "cells": [
  {
   "cell_type": "markdown",
   "metadata": {},
   "source": [
    "### 13:45 Aufbau\n",
    "\n",
    "### 13:55 Wiederholung\n",
    "\n",
    "* Was sind Variablen?\n",
    "* Was ist der Unterschied bei Rechenaufgaben, zwischen der Mathematik und der Informatik?\n",
    "* Regeln Variablennamen?\n",
    "\n",
    "### 14:05 Importe\n",
    "\n",
    "1. Vairante   \n",
    "```import math```  \n",
    "Hier wird die Bibliothek __math__, welche uns weitere mathematische Funktionen zur Verfügung stellt, geladen. Wenn man diese Funktionen verwenden will, muss man dem Funktionsnamen, immer das Wort __math__ voranstellen:  \n",
    "```math.pi```  \n",
    "Zum Zugriff auf die Zahl __pi__ (Pi ist eine Konstante, dies ist einer Variable, mit einem Festzugewiesenen Wert, der nicht geändert werden kann)  \n",
    "  \n",
    "2. Variante  \n",
    "```import math as m```  \n",
    "Hiermit bekommt die Bibliothek einen Alias oder Alternativnamen, nämlich in diesem Fall, den Buchstaben __m___. Damit sieht der Zugrffi auf __pi__ so aus:  \n",
    "```m.pi```  \n",
    "  \n",
    "3. Variante  \n",
    "```from math import pi```  \n",
    "Dadurch wird nur __pi__ von der __math__ Bibliothek eingebunden, und kann direkt verwendet werden ohne vorangestellten Bibliotheksnamen, was dass so aussieht:  \n",
    "```pi```  \n",
    "  \n",
    "4. Variante  \n",
    "```from math import *```  \n",
    "So werden alle Funktionen und Konstanten von __math__ eingebunden. Dadurch kann es wieder zu Nebenwirkungen kommen, wenn man eine Funktion mit gleichen Namen verwendet, wie in der Library __math__. Die Schreibweise ist identisch zur 3. Variante.  \n",
    "\n",
    "Die Kinder die verschiedenen Varianten durchspielen lassen.\n",
    "\n",
    "### 14:20 help()\n",
    "\n",
    "Funktion help() mit math Testen - findet die Methode für den ggT (gcd).\n",
    "\n",
    "### 14:25 Skripte erstellen\n",
    "\n",
    "Via IDLE Skript erstellen\n",
    "\n",
    "Hello World Programm schreiben lassen\n",
    "\n",
    "Skript speichern und ausführen\n",
    "\n",
    "### 14:35 Array \"anreissen\"\n",
    "\n",
    "Was ist ein Array?\n",
    "\n",
    "Aufgabe: Ein Skript erstellen, welches in der Reihenfolge, folgendes macht:\n",
    "1. Ein Array anlegen und einer Variablen zuweist [5, 4, 2, 3, 5, 8, 9, 0, 2]\n",
    "2. Das Array ausgibt\n",
    "3. Die Anzahl Einträge ausgibt\n",
    "4. Das Array umdreht\n",
    "5. Einen weiteren Eintrag mit dem Wert 5 anhängt\n",
    "6. Die Anzahl von 5en im Array ausgeben lässt\n",
    "\n",
    "### 15:00 Abbau"
   ]
  }
 ],
 "metadata": {
  "kernelspec": {
   "display_name": "Python 3",
   "language": "python",
   "name": "python3"
  },
  "language_info": {
   "codemirror_mode": {
    "name": "ipython",
    "version": 3
   },
   "file_extension": ".py",
   "mimetype": "text/x-python",
   "name": "python",
   "nbconvert_exporter": "python",
   "pygments_lexer": "ipython3",
   "version": "3.6.5"
  }
 },
 "nbformat": 4,
 "nbformat_minor": 2
}
