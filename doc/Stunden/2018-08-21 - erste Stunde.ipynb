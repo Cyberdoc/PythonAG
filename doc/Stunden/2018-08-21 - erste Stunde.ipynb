{
 "cells": [
  {
   "cell_type": "markdown",
   "metadata": {},
   "source": [
    "# Erste Stunde (21.08.2018)\n",
    "\n",
    "Ziel der AG: Euch an die Programmierung heranführen. Zu zeigen, wie einfach und schnell man selbst Programme schreiben kann, die einem wiederkehrende Arbeiten abnehmen. Dazu verwenden wir die leicht zu erlernende Programmiersprache Python, in der Version 3. Pyhton ist eine offene und kostenlose Sprache, so daß jeder diese herunterladen und verwenden darf. Python gibt es dabei für fast jede Plattform (Windows, macOS, Linux, etc.). \n",
    "\n",
    "Die Python Downloads findet man [hier](https://www.python.org/)\n",
    "\n",
    "Wie steht es um eure Kenntnisse:\n",
    "* Wer hat zu Hause einen eigenen Rechner (welches Betriebsystem)?\n",
    "* Wer kann selbst Programme und Spiele installieren?\n",
    "* Wer kann seinen Rechner selbst installieren?\n",
    "* Wer hat schon mal ein Softwareproblem an seinem Rechner gelöst?\n",
    "* Wer hat schon mal Programmcode gesehen?\n",
    "* Wer hat schon mal ein Programm geschrieben?\n",
    "\n",
    "Mit den Resultaten der Fragen bilden wir Gruppen.\n",
    "\n",
    "Als Hardware verwenden wir hier keine Windows Rechner, sondern den Raspberry Pi, einen Einplatinenrechner, der gerade mal 35 Euro kostet. Auf diesem läuft ein Linux Betriebsystem, mit dem Namen Raspbian. Hard- und Software sind beides Open Source und wurde extra für das Bildungswesen entwickelt. \n",
    "\n",
    "Was kann man mit der Kombination Python / Rasberry Pi alles machen:\n",
    "* Roboter (z.B. [Monster Borg](https://www.piborg.org/robots/monsterborg))\n",
    "* Tier-Kamera (z.B. [Pimoroni Octocam](https://shop.pimoroni.com/products/octocam-pi-zero-w-project-kit))\n",
    "* Wetterstation (z.B. [Coding World](https://codingworld.io/project/wetterstation-ende))\n",
    "* Minecraft manipulieren\n",
    "\n",
    "Beispiele für andere Rasberry Pi Projekte:\n",
    "* Haussteuerung (z.B. [openhab](https://www.openhab.org/))\n",
    "* Internetfilter (z.B. [Pi hole](https://pi-hole.net/))\n",
    "\n",
    "Möglich wird dies durch die Verwendung der GPIO Pinleite (general purpose input/output) auf dem Pi und der Verwendung elektrischer Bauteile.\n",
    "\n",
    "![Raspberry Pi](https://projects-static.raspberrypi.org/projects/raspberry-pi-getting-started/6adfaf6cdb631126c7992ae2737d06d45f58002f/en/images/pi-plug-in.gif)\n",
    "\n",
    "Hier mal ein kleines Beispiel, mit Python eine LED an und ausschalten, welche an einem GPIO Pin hängt.\n",
    "Dafür starte ich die Python IDLE (IDLE = Integrated Development and Learning Environment) und gebe den Code in die Python Shell dank REPL (REPL = Read Eval Print Loop) mit direktem Feedback ein:"
   ]
  },
  {
   "cell_type": "code",
   "execution_count": null,
   "metadata": {},
   "outputs": [],
   "source": [
    "import RPi.GPIO as GPIO\n",
    "\n",
    "GPIO.setmode(GPIO.BCM)\n",
    "GPIO.setup(23, GPIO.OUT)\n",
    "\n",
    "GPIO.output(23, GPIO.HIGH)"
   ]
  },
  {
   "cell_type": "markdown",
   "metadata": {},
   "source": [
    "Jetzt leuchtet die LED. Wie kann man sie wohl wieder ausschalten?"
   ]
  },
  {
   "cell_type": "code",
   "execution_count": null,
   "metadata": {},
   "outputs": [],
   "source": [
    "GPIO.output(23, GPIO.LOW)"
   ]
  },
  {
   "cell_type": "markdown",
   "metadata": {},
   "source": [
    "---\n",
    "**Hinweis**\n",
    "\n",
    "`GPIO.setmode(GPIO.BCM)`\n",
    "* Durch diese Einstellung wird die Nummerierung anhand der Beschriftung verwendet, also GPIO23 ist dann im Code Pin 23.\n",
    "\n",
    "`GPIO.setmode(GPIO.BOARD)`\n",
    "* Hier werden die Pins nach Nummerierung durchgezählt (1-40). Unser Pin GPIO23, wäre also in dem Fall Pin 16.\n",
    "\n",
    "![Pi Pinout](https://www.elektronik-kompendium.de/sites/raspberry-pi/fotos/raspberry-pi-15b.jpg)\n",
    "\n",
    "---\n",
    "\n",
    "Nach dem kurzen Beispiel, die Frage, was wollen wir dieses Schuljahr machen? Die ersten Wochen werden uns mit den Python Grundlagen und dem Aufbau beschäftigen. Aber wir sind sicher, danach ist noch etwas Zeit.\n",
    "\n",
    "Was sind also eure Erwartungen in den nächsten Monaten?"
   ]
  }
 ],
 "metadata": {
  "kernelspec": {
   "display_name": "Python 3",
   "language": "python",
   "name": "python3"
  },
  "language_info": {
   "codemirror_mode": {
    "name": "ipython",
    "version": 3
   },
   "file_extension": ".py",
   "mimetype": "text/x-python",
   "name": "python",
   "nbconvert_exporter": "python",
   "pygments_lexer": "ipython3",
   "version": "3.6.5"
  }
 },
 "nbformat": 4,
 "nbformat_minor": 2
}
