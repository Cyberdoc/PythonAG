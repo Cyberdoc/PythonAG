{
 "cells": [
  {
   "cell_type": "markdown",
   "metadata": {},
   "source": [
    "### Idee 1\n",
    "\n",
    "```\n",
    "import mcpi.minecraft\n",
    "import time\n",
    "\n",
    "mc = mcpi.minecraft.Minecraft.create();\n",
    "\n",
    "while True:\n",
    "\thits = mc.events.pollBlockHits()\n",
    "\tfor hit in hits:\n",
    "\t\tblock = mc.getBlockWithData(hit.pos.x, hit.pos.y, hit.pos.z);\n",
    "\t\tblock.data = (block.data + 1) & 0xf;\n",
    "\t\tmc.setBlock(hit.pos.x, hit.pos.y, hit.pos.z, block.id, block.data)\n",
    "\t\tmc.postToChat(\"Block data is now \" + str(block.data))\n",
    "\ttime.sleep(0.1)\n",
    "```\n",
    "\n",
    "### Idee 2\n",
    "\n",
    "TNT importieren:\n",
    "```\n",
    "import mcpi.block as block\n",
    "mc.setBlock(x, y, z-1, block.TNT, 2)\n",
    "```\n",
    "\n",
    "### Idee 3\n",
    "\n",
    "Haus bauen\n",
    "\n",
    "\n"
   ]
  }
 ],
 "metadata": {
  "kernelspec": {
   "display_name": "Python 3",
   "language": "python",
   "name": "python3"
  },
  "language_info": {
   "codemirror_mode": {
    "name": "ipython",
    "version": 3
   },
   "file_extension": ".py",
   "mimetype": "text/x-python",
   "name": "python",
   "nbconvert_exporter": "python",
   "pygments_lexer": "ipython3",
   "version": "3.6.5"
  }
 },
 "nbformat": 4,
 "nbformat_minor": 2
}
