{
 "cells": [
  {
   "cell_type": "markdown",
   "metadata": {},
   "source": [
    "### 13:45 Aufbau + Wiederholung\n",
    "* Definiere eine Variable text, mit dem Inhalt \"__Hallo Welt__\".\n",
    "* Gebe den Text \"__Hallo Welt__\" mit der Funktion print aus.\n",
    "* Erweitere die Ausgabe, dass folgender Text ausgegeben wird: \"__Text: Hallo Welt__\"\n",
    "\n",
    "### 14:15 - Warten\n",
    "\n",
    "Wenn man nicht sofort will, dass etwas passiert, kann man das Programm pausieren.\n",
    "\n",
    "```  \n",
    "import time\n",
    "time(3)\n",
    "```  \n",
    "\n",
    "### 14:20 - Aufgabe\n",
    "\n",
    "* Bestimme die Position des Spielers\n",
    "* Setze 60 Blöcke über dem Spieler einen Steinblock\n",
    "* Schreibe in den Chat 'Gleich geht es nach oben'\n",
    "* Warte 4 Sekunden\n",
    "* Positioniere den Spieler auf dem Block in der Höhe\n",
    "* Schreibe \"Jetzt bloss nicht herunterfallen!\" in den Chat\n",
    "* Warte 4 Sekunden\n",
    "* Positioniere den Spieler wieder am Ausgangspunkt\n",
    "\n",
    "Mittels dem Befehl ```setBlock(x, y, z [,id])``` kann an der angegebenen Koordinate, einen Block platzieren. Mit dem optionalen Parameter __id__ wird die Art des Blocks definiert, Beispiel für Block Typen:\n",
    "\n",
    "| ID | Typ        |\n",
    "|----|------------|\n",
    "| 0  | Luft       |\n",
    "| 1  | Stein      |\n",
    "| 2  | Gras       |\n",
    "| 3  | Erde/Dreck |\n",
    "\n",
    "### 14:50\n",
    "Es ist auch Möglich Blöcke als Konstanten (vordefinierte Variablen), zu laden.  \n",
    "```\n",
    "from mcpi import block\n",
    "mc.setBlock(x, y, z, block.DIRT.id)\n",
    "```  \n",
    "### 14:55\n",
    "Mehrere Blocks kann man mit dem Befehl setBlocks(x1, y1, z1, x2, y2, z2, id) setzen, wobei x1,y1,z1 die Startposition setzt und x2,y2,z2 die Endposition\n",
    "  \n",
    "\n",
    "### 15:00 Abbau"
   ]
  },
  {
   "cell_type": "code",
   "execution_count": null,
   "metadata": {},
   "outputs": [],
   "source": []
  }
 ],
 "metadata": {
  "kernelspec": {
   "display_name": "Python 3",
   "language": "python",
   "name": "python3"
  },
  "language_info": {
   "codemirror_mode": {
    "name": "ipython",
    "version": 3
   },
   "file_extension": ".py",
   "mimetype": "text/x-python",
   "name": "python",
   "nbconvert_exporter": "python",
   "pygments_lexer": "ipython3",
   "version": "3.6.5"
  }
 },
 "nbformat": 4,
 "nbformat_minor": 2
}
