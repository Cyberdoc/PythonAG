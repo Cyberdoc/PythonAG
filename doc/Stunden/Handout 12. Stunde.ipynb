{
 "cells": [
  {
   "cell_type": "markdown",
   "metadata": {},
   "source": [
    "### Mehrere Blöcke auf einmal setzen\n",
    "```\n",
    "mc.setBlocks(x1, y1, z1, x2, y2, z2, id)\n",
    "```\n",
    "Beispiel: *mc.setBlocks(1, 1, 1, 4, 4, 4, 0)*  \n",
    "Damit wird der Bereich von x/y/z=1/1/1 bis x/y/z=4/4/4 \"gelöscht\", durch Luft ersetzt \n",
    "\n",
    "### eigene Funktionen\n",
    "```\n",
    "def <Funktionsname>(<Parameter Liste>):\n",
    "  <Verarbeitungsblock>\n",
    "```\n",
    "\n",
    "Beispiel:\n",
    "```\n",
    "def hello(name):\n",
    "  print(\"Hello \"+name)\n",
    "\n",
    "hello(\"Hans\")\n",
    "```\n",
    "\n",
    "### For - Schleife\n",
    "\n",
    "```\n",
    "for <Variable> in <Sequenz>:\n",
    "    <Verarbeitungsblock>\n",
    "```\n",
    "Die Schleife wird so oft durchlaufen, wie es in der *Sequenz* Werte gibt. Dabei wird der aktuelle Wert der Sequenz in der *Variable* gespeichert.\n",
    "Eine *Sequenz* kann dabei ein Bereich (**```range(1, 10)```**) oder eine Liste (**```[\"Apfel\", \"Birne\"]```**) sein.\n",
    "\n",
    "Beispiel:\n",
    "```\n",
    "for zahl in range(1, 10):\n",
    "  print(zahl)\n",
    "```\n"
   ]
  }
 ],
 "metadata": {
  "kernelspec": {
   "display_name": "Python 3",
   "language": "python",
   "name": "python3"
  },
  "language_info": {
   "codemirror_mode": {
    "name": "ipython",
    "version": 3
   },
   "file_extension": ".py",
   "mimetype": "text/x-python",
   "name": "python",
   "nbconvert_exporter": "python",
   "pygments_lexer": "ipython3",
   "version": "3.6.5"
  }
 },
 "nbformat": 4,
 "nbformat_minor": 2
}
