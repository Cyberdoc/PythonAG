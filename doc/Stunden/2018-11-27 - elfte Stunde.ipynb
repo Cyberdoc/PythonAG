{
 "cells": [
  {
   "cell_type": "markdown",
   "metadata": {},
   "source": [
    "* Was ist eine Bedingung/Verzweigung?\n",
    "* Schlüsselwort, damit bei if alle Bedingungen erfüllt sein müssen?\n",
    "* Schlüsselwort, damit bei if mindestens eine Bedingung erfüllt sein muss?\n",
    "* Wie wiederholt man etwas mehrere male?\n",
    "\n",
    "### 14:15 - Aufgabe 1\n",
    "\n",
    "Python Programm erstellen, mittels dem der Spieler beim herumlaufen überall blaue Blumen setzt, wo er läuft\n",
    "\n",
    "```\n",
    "while True:\n",
    "   x, y, z = mc.player.getTilePos()\n",
    "   mc.setBlock(x, y, z, 37)\n",
    "   time.sleep(0.2)\n",
    "```\n",
    "### 14:30 - Aufgabe 2\n",
    "\n",
    "Es soll immer im Wechsel eine blaue und eine gelbe Pflanze gesetzt werden.   \n",
    "_Es muss eine Variable eingeführt werden, welche die ID des Blocks speichert und bei jedem durchlauf muss die ID des Blocktyps gewechselt werden_\n",
    "\n",
    "### 14:45 - Aufgabe 3\n",
    "\n",
    "Wenn der Benutzer sich nicht bewegt, soll im Chat die Meldung \"Bewegung!\" ausgegeben werden.   \n",
    "_Die Position des Spielers muss am Ende des Schleifenblocks zwischengespeichert werden, und wenn die neue Position mit der alten übereinstimmt, muss ein mc.postToChat(\"Bewegung!\") ausgeführt werden._\n",
    "\n",
    "### 15:00 - Aufgabe 4\n",
    "\n",
    "Die Meldung soll nur einmal ausgegeben werden.   \n",
    "_Die \"Bewegung!\" Meldung wird jetzt sehr oft ausgegeben. Über eine Hilfsvariable soll diese nur noch einmal pro neue Koordinate ausgegeben werden._"
   ]
  }
 ],
 "metadata": {
  "kernelspec": {
   "display_name": "Python 3",
   "language": "python",
   "name": "python3"
  },
  "language_info": {
   "codemirror_mode": {
    "name": "ipython",
    "version": 3
   },
   "file_extension": ".py",
   "mimetype": "text/x-python",
   "name": "python",
   "nbconvert_exporter": "python",
   "pygments_lexer": "ipython3",
   "version": "3.6.5"
  }
 },
 "nbformat": 4,
 "nbformat_minor": 2
}
