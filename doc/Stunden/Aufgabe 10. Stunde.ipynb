{
 "cells": [
  {
   "cell_type": "markdown",
   "metadata": {},
   "source": [
    "## Aufgabe 1\n",
    "\n",
    "Lege ein Python Skript an, und Frage den Benutzer nach zwei Eingabewerten, speichere die Eingabewerte als a und b im Datentyp __int__. Gebe die beiden eingegeben Werte mit _print_ aus.\n",
    "\n",
    "__Hinweis:__ Um eine numerischen String in eine Zahl umzuwandeln ```<int> = int(<string>)```\n",
    "\n",
    "## Aufgabe 2\n",
    "\n",
    "Erweitere das Programm aus Aufgabe 1 - __führe keine unnötigen if-Prüfungen durch__: \n",
    "* Ist a > 5, gib den Text \"a ist größer 5\" aus \n",
    "* Ist b < 10, gib den Text \"b ist kleiner 5\" aus\n",
    "* Ist a > 5 und b > 5, gib den Text \"a und b sind größer 5\" aus\n",
    "* Ist der Rest von a geteilt durch b gleich null, gib den Text \"b ist ein Teiler von a\" aus\n",
    "* Ist a > b oder b < 5, gib den Text \"b ist ja ziemlich klein\" aus\n",
    "\n",
    "__Hinweis:__ Restberechnnung ```a % b```\n",
    "\n",
    "## Aufgabe 3\n",
    "\n",
    "Erweitere das Programm aus Aufgabe 2:\n",
    "* Ist a < b, dann erhöhe a solange um den Wert 1, bis a gleich b ist\n",
    "* Ist a > b, dann erhöhe b solange um den Wert 1, bis b gleich a ist\n",
    "\n",
    "Gibt in jedem Schleifendurchlauf die Werte von a und b aus."
   ]
  }
 ],
 "metadata": {
  "kernelspec": {
   "display_name": "Python 3",
   "language": "python",
   "name": "python3"
  },
  "language_info": {
   "codemirror_mode": {
    "name": "ipython",
    "version": 3
   },
   "file_extension": ".py",
   "mimetype": "text/x-python",
   "name": "python",
   "nbconvert_exporter": "python",
   "pygments_lexer": "ipython3",
   "version": "3.6.5"
  }
 },
 "nbformat": 4,
 "nbformat_minor": 2
}
