{
 "cells": [
  {
   "cell_type": "markdown",
   "metadata": {},
   "source": [
    "### Einlesen von Parametern\n",
    "```\n",
    "<Variable vom Typ String> = input(<Text>)\n",
    "```\n",
    "Beispiel: *a = input(\"Variable a eingeben:\")*\n",
    "\n",
    "### if\n",
    "\n",
    "```\n",
    "if <Bedingung>:\n",
    "    <Verarbeitungsblock>\n",
    "```\n",
    "Bedingung ist ein logischer Ausdruck, der entweder WAHR oder FALSCH ist.  \n",
    "  \n",
    "### if - else\n",
    "\n",
    "```\n",
    "if <Bedingung>:\n",
    "    <Verarbeitungsblock>\n",
    "else:\n",
    "    <Verarbeitungsblock>\n",
    "```\n",
    "\n",
    "### if - elif - else\n",
    "\n",
    "```\n",
    "if <Bedingung>:\n",
    "    <Verarbeitungsblock>\n",
    "elif <Bedingung>:\n",
    "    <Verarbeitungsblock>\n",
    "else:\n",
    "    <Verarbeitungsblock>\n",
    "```\n",
    "#### ODER - or\n",
    "```\n",
    "if <Bedingung1> or <Bedingung2>:\n",
    "    <Verarbeitungsblock>\n",
    "```\n",
    "  \n",
    "Wenn EINE Bedingung erfüllt wird, dass führe den Verarbeitungsblock aus\n",
    "\n",
    "#### UND - and\n",
    "```\n",
    "if <Bedingung1> and <Bedingung2>:\n",
    "    <Verarbeitungsblock>\n",
    "```\n",
    "  \n",
    "Wenn BEIDE Bedingung erfüllt werden, dass führe den Verarbeitungsblock aus\n",
    "\n",
    "### While - Schleife\n",
    "```\n",
    "while <Bedingung>:\n",
    "    <Verarbeitungsblock>\n",
    "```\n",
    "  \n",
    "Wiederhole den Inhalt des Verarbeitungsblock solange, wie die Bedingung erfüllt wird."
   ]
  }
 ],
 "metadata": {
  "kernelspec": {
   "display_name": "Python 3",
   "language": "python",
   "name": "python3"
  },
  "language_info": {
   "codemirror_mode": {
    "name": "ipython",
    "version": 3
   },
   "file_extension": ".py",
   "mimetype": "text/x-python",
   "name": "python",
   "nbconvert_exporter": "python",
   "pygments_lexer": "ipython3",
   "version": "3.6.5"
  }
 },
 "nbformat": 4,
 "nbformat_minor": 2
}
