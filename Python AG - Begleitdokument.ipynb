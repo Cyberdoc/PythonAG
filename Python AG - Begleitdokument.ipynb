{
 "cells": [
  {
   "cell_type": "markdown",
   "metadata": {},
   "source": [
    "# Python programmieren lernen\n",
    "\n",
    "Die AG befasst sich mit der Programmierung in Python, auf einem Raspberry Pi, wir verwenden dabei Python 3. \n",
    "\n",
    "Durch die Verwendung des Raspberry Pi ist es möglich, sich nicht rein auf den Bildschirm und Tastatur als Ausgabe- und Eingabemedium zu beziehen, es ist auch möglich über die Schnittstellen des Pi mit einfachen Elektronik Komponenten zu arbeiten.\n",
    "\n",
    "Dieses Dokument soll als Hilfe zur Verfügung stehen und über das ganze Schuljahr wachsen, mit den Informationen, die in der Schule bearbeitet werden.\n",
    "\n",
    "Begonnen wird mit einer sehr kurzen Einführung des Raspberry Pi, um dann schnell zur Programmierung mit Python zu kommen.\n",
    "\n",
    "## Raspberry Pi\n",
    "\n",
    "Der Raspberry Pi wird von einer englische Non-Profit Organisation entwickelt. Ziel der Organisation ist, dass Schüler einen einfachen und kostengünstigen Einstieg in die Welt der Computer erhalten.\n",
    "\n",
    "### Bezugsquelle\n",
    "\n",
    "Das hier verwendete Set, kann [hier](https://www.sertronics-shop.de/raspberry-pi-co/raspberry-pi/boards-kits/4176/raspberry-pi-3-modell-b-full-starterkit-schwarz) erworben werden. Alternativ kann man sich auch Sets bei Conrad, Reichelt, ELV oder Amazon kaufen (preislich gibt es nur minimale unterschiede).\n",
    "\n",
    "### Installation\n",
    "\n",
    "Nach dem \"Zusammenbau\" des Raspberry Pi muss man die microSD Karte mit einem Raspberry Pi Image bespielen. Wir verwenden hier Raspbian, welches von der Raspberry Pi Foundation angeboten wird.\n",
    "\n",
    "Bezogen werden kann es direkt von der Webseite der Foundation, von [hier](https://www.raspberrypi.org/downloads/raspbian/)  die Version mit Desktop herunterladen.\n",
    "\n",
    "Um das Image aus dem heruntergeladenen ZIP auf die SD Karte zu bekommen, verwendet man am einfachsten [Etcher](https://etcher.io/), welches für alle gängigen Betriebsysteme kostenlos zur Verfügung steht.\n",
    "\n",
    "Nach dem das ZIP entpackt und Etcher installiert wurde, startet man Etcher und bekommt direkt das Bedienerfreundliche UI von Etcher angezeigt. Einfach **Select image** anklicken und das zuvor ausgepackte Raspbian Image auswählen. \n",
    "\n",
    "![Etcher UI](img/etcher.png \"Etcher UI\")\n",
    "\n",
    "Im nächsten Schritt die korrekte microSD Karte auswählen, falls mehrere externe Speichermedien am Rechner vorhanden sind. Im letzten Schritt mit **Flash!** das Image auf die Karte schreiben. Hier kann es vorkommen, dass man dies noch mal durch eingabe des Benutzerpassworts (oder das Passwort eines Administrators) bestätigen muss.\n",
    "\n",
    "Ist der Schreibvorgang abgeschlossen, kann man die mircoSD Karte entnehmen und in den Raspberry Pi einsetzen. Jetzt alle Kabel am Raspberry Pi anschließen und als letztes mit Strom verbinden.\n",
    "Beim ersten Start von Raspbian muss man noch manche Installationsschritte, wie welches Sprache verwendet wird, durchegehen (den Anweisung auf dem Bildschirm folgen).\n",
    "\n",
    "Jetzt ist der Pi einsatzfähig.\n",
    "\n",
    "### Starten von Python\n",
    "\n",
    "Der einfachste Weg um mit der Entwicklung in Python zu starten, ist das Ausführen der Python IDLE (IDLE = Integrated Development and Learning Environment, könnte Passen, oder der Name kommt wirklich von Eric Idle, einem Mitglied von Monty Python Comedy-Gruppe), dafür öffnet man das Menü *__Himbeere__ -> Entwicklung -> Python 3 (IDLE)*.\n",
    "\n",
    "![IDLE starten](img/python_idle.png \"IDLE starten\")\n",
    "\n",
    "Startet man Python IDLE, öffnet sich direkt ein Fenster, welches auf eine Eingabe wartet. Dies wird durch \">>>\" signalisiert, dies ist die Python Shell (oder auch REPL = Read Eval Print Loop).\n",
    "\n",
    "Die Shell reagiert direkt auf Eingabe und führt diese sofort aus. \n",
    "* **R**ead: Es wird eingelesen, was der Benutzer eingegeben hat. \n",
    "* **E**val: Die Eingabe wird vom Python Interpreter verarbeitet\n",
    "* **P**rint: Das Ergebnis der Verarbeitung wird dem Benutzer ausgegeben. Enthält die Eingabe einen Fehler, wird dieser ausgegeben.\n",
    "* **L**oop: Die Shell wartet auf die nächste Eingabe\n",
    "\n",
    "Wie in jeder Programmiersprache, ist der Einstieg ein \"Hello World\", welcher Dank REPL in einer Zeile daherkommt."
   ]
  },
  {
   "cell_type": "code",
   "execution_count": 1,
   "metadata": {},
   "outputs": [
    {
     "name": "stdout",
     "output_type": "stream",
     "text": [
      "Hello World\n"
     ]
    }
   ],
   "source": [
    ">>> print(\"Hello World\")"
   ]
  },
  {
   "cell_type": "markdown",
   "metadata": {},
   "source": [
    "---\n",
    "### Info zur Python-Shell\n",
    "Um den letzten eingegebenen Befehl nochmal zu bearbeiten, kann man diesen mit ```Alt+P``` zurückholen (P steht hier für *previous*, auf Deutsch *vorheriger*). Um in die andere Richtung zu springen, drückt man die Kombination ```Alt+N``` (N steht hier für *next*, auf Deutsch *nächster*).\n",
    "\n",
    "---\n",
    "\n",
    "In der Shell kann man einfache Mathematische Berechnungen durchführen, wie mit einem einfachen Taschenrechner."
   ]
  },
  {
   "cell_type": "code",
   "execution_count": 2,
   "metadata": {},
   "outputs": [
    {
     "data": {
      "text/plain": [
       "10"
      ]
     },
     "execution_count": 2,
     "metadata": {},
     "output_type": "execute_result"
    }
   ],
   "source": [
    ">>> 5 + 5"
   ]
  },
  {
   "cell_type": "markdown",
   "metadata": {},
   "source": [
    "Es stehen alle Grundrechenarten direkt zur Verfügung:\n",
    "* Addition -> +\n",
    "* Subtraktion -> -\n",
    "* Multiplikation -> *\n",
    "* Dvision -> /\n",
    "\n",
    "Es muss aber auf die korrekte und vollständige Schreibweise geachtet werden, sonst werden entsprechende Fehlermeldungen ausgegeben."
   ]
  },
  {
   "cell_type": "code",
   "execution_count": 3,
   "metadata": {},
   "outputs": [
    {
     "ename": "SyntaxError",
     "evalue": "invalid syntax (<ipython-input-3-4f4744a157be>, line 1)",
     "output_type": "error",
     "traceback": [
      "\u001b[0;36m  File \u001b[0;32m\"<ipython-input-3-4f4744a157be>\"\u001b[0;36m, line \u001b[0;32m1\u001b[0m\n\u001b[0;31m    5 +\u001b[0m\n\u001b[0m       ^\u001b[0m\n\u001b[0;31mSyntaxError\u001b[0m\u001b[0;31m:\u001b[0m invalid syntax\n"
     ]
    }
   ],
   "source": [
    ">>> 5 +"
   ]
  },
  {
   "cell_type": "markdown",
   "metadata": {},
   "source": [
    "Bei dieser Berechnung fehlt der zweite Summand.\n",
    "\n",
    "Auch Klammern, kann man verwenden, um entsprechende mathematische Regeln abzubilden."
   ]
  },
  {
   "cell_type": "code",
   "execution_count": 9,
   "metadata": {},
   "outputs": [
    {
     "data": {
      "text/plain": [
       "12.0"
      ]
     },
     "execution_count": 9,
     "metadata": {},
     "output_type": "execute_result"
    }
   ],
   "source": [
    ">>> (9 / 3) * (2 + 2)"
   ]
  },
  {
   "cell_type": "markdown",
   "metadata": {},
   "source": [
    "Auch bei den Klammern muss man auf die korrekte Schreibweise achten und man darf keine Notationselemente weglassen.\n",
    "\n",
    "Darüber hinaus gibt es noch drei weitere Operatoren:\n",
    "* \"\\*\\*\" Potenz Berechnung $$2*2 = 2^2$$\n",
    "* \"//\"  ganzzahlige Division $$5  //  2 = 2$$\n",
    "* \"%\"   Modulo-Operation $$5\\%2 = 1$$\n",
    "\n",
    "### Zahlen\n",
    "\n",
    "Bei den Zahlen gibt es verschiedene Typen, wobei uns für den Moment nur zwei interessieren\n",
    "* Ganze Zahlen (int)\n",
    "* Gleitpunktzahlen (float)\n",
    "\n",
    "Beispiel für eine Ganze Zahl ist die *5*, eine Gleitpunktzahl wäre *5.3*. Hier gilt zu beachten, dass die Gleitpunktzahl, wie der Name schon sagt, durch einen Punkt getrennt wird und nicht durch ein Komma!"
   ]
  },
  {
   "cell_type": "code",
   "execution_count": 10,
   "metadata": {},
   "outputs": [
    {
     "data": {
      "text/plain": [
       "9.5"
      ]
     },
     "execution_count": 10,
     "metadata": {},
     "output_type": "execute_result"
    }
   ],
   "source": [
    ">>> 5.3 + 4.2"
   ]
  },
  {
   "cell_type": "code",
   "execution_count": 11,
   "metadata": {},
   "outputs": [
    {
     "data": {
      "text/plain": [
       "(5, 7, 2)"
      ]
     },
     "execution_count": 11,
     "metadata": {},
     "output_type": "execute_result"
    }
   ],
   "source": [
    ">>> 5,3 + 4,2"
   ]
  },
  {
   "cell_type": "markdown",
   "metadata": {},
   "source": [
    "Was passiert hier im zweiten Beispiel? Es wird eine Liste von Zahlen erstellt, wobei die mittlere Zahl als Mathematischer Ausdruck gewertet wird 3+4=7. Damit besteht die Liste aus drei Zahlen.\n",
    "\n",
    "#### Mathematische Funktionen\n",
    "\n",
    "Mit der erstellten Liste kann man direkt weitere Dinge machen, man kann mittels der in Python enthaltenen mathematischen Funktionen, z.B. die größte und die kleinste Zahl der Liste ermitteln. Die Syntax ist immer die gleiche, erst kommt der Funktionsname, z.B. *max*, und dann in Klammer der Wert (auch Parameter genannt), welcher von der Funktion verarbeitet werden soll."
   ]
  },
  {
   "cell_type": "code",
   "execution_count": 12,
   "metadata": {},
   "outputs": [
    {
     "data": {
      "text/plain": [
       "2"
      ]
     },
     "execution_count": 12,
     "metadata": {},
     "output_type": "execute_result"
    }
   ],
   "source": [
    ">>> min(5, 7, 2)"
   ]
  },
  {
   "cell_type": "code",
   "execution_count": 13,
   "metadata": {},
   "outputs": [
    {
     "data": {
      "text/plain": [
       "7"
      ]
     },
     "execution_count": 13,
     "metadata": {},
     "output_type": "execute_result"
    }
   ],
   "source": [
    ">>> max(5, 7, 2)"
   ]
  },
  {
   "cell_type": "markdown",
   "metadata": {},
   "source": [
    "Neben dieser beiden Listen Funktionen, gibt es auch noch weitere einfache mathematische Funktionen, wie die Absolutzahl Berechnung."
   ]
  },
  {
   "cell_type": "code",
   "execution_count": 14,
   "metadata": {},
   "outputs": [
    {
     "data": {
      "text/plain": [
       "5"
      ]
     },
     "execution_count": 14,
     "metadata": {},
     "output_type": "execute_result"
    }
   ],
   "source": [
    ">>> abs(-5)"
   ]
  },
  {
   "cell_type": "markdown",
   "metadata": {},
   "source": [
    "Im Gegensatz zu *max()* und *min()*, erwartet die Funktion *abs()* nur einen Wert, und es kommt zu einem entsprechenden Fehler, wenn man hier mehr als einen Wert angibt.\n",
    "\n",
    "Eine weitere Funktion ist das Runden von Zahlen, mit der Funktion *round()*. Hier kann man nur die zu rundende Zahl angeben, oder noch zusätzlich die Anzahl der Nachkommastellen."
   ]
  },
  {
   "cell_type": "code",
   "execution_count": 15,
   "metadata": {},
   "outputs": [
    {
     "data": {
      "text/plain": [
       "5"
      ]
     },
     "execution_count": 15,
     "metadata": {},
     "output_type": "execute_result"
    }
   ],
   "source": [
    ">>> round(4.536)"
   ]
  },
  {
   "cell_type": "code",
   "execution_count": 16,
   "metadata": {},
   "outputs": [
    {
     "data": {
      "text/plain": [
       "4.54"
      ]
     },
     "execution_count": 16,
     "metadata": {},
     "output_type": "execute_result"
    }
   ],
   "source": [
    ">>> round(4.536, 2)"
   ]
  },
  {
   "cell_type": "markdown",
   "metadata": {},
   "source": [
    "Zu den genannten Funktionen gibt es noch drei weitere Standard Funktionen:\n",
    "\n",
    "Funktion  |Beschreibung                                             |Beispiel Eingabe|Ausgabe      \n",
    "----------|---------------------------------------------------------|----------------|--------------\n",
    "*float()* |Erzeugt aus dem übergebenen Parameter eine Gleitkommazahl|float(4)        |4.0          \n",
    "*int()*   |Erzeugt aus dem übergebenen Parameter eine Ganze Zahl    |int(4.0)        |4            \n",
    "*type()*  |Ermittelt den Typ des übergebenen Parameter              |type(4)         |<class 'int'\\>\n",
    "\n"
   ]
  },
  {
   "cell_type": "markdown",
   "metadata": {},
   "source": [
    "## Variablen und Zuweisungen\n",
    "\n",
    "Bisher wurden die Zahlen immer direkt eingegeben. Bei einem normalen Programm, weiss man aber vielleicht noch nicht, welche Zahl überhaupt berechnet werden soll, bzw. man möchte mit dem Ergebnis weitere Berechnungen durchführen. Also muss man sich diese Werte irgendwie merken.\n",
    "Dies geschieht mithilfe von Variablen. Diese sind eine Referenz oder ein Plathalter für einen Wert. Die Zuweisung die dabei denkbar einfach\n",
    "```name = wert```\n",
    "Damit hätte die Variable den Namen *name* und man würde *wert* darin festhalten. \n",
    "Ein Bespiel mit einer Zahl:"
   ]
  },
  {
   "cell_type": "code",
   "execution_count": 17,
   "metadata": {},
   "outputs": [],
   "source": [
    ">>> x = 8"
   ]
  },
  {
   "cell_type": "markdown",
   "metadata": {},
   "source": [
    "Damit wurde der Wert 47 in dem Platzhalter *x* gespeichert und kann jetzt beliebig wieder abgerufen werden. Dies geschieht durch die einfache Eingabe, bzw. Verwendung des Platzhalters"
   ]
  },
  {
   "cell_type": "code",
   "execution_count": 18,
   "metadata": {},
   "outputs": [
    {
     "data": {
      "text/plain": [
       "8"
      ]
     },
     "execution_count": 18,
     "metadata": {},
     "output_type": "execute_result"
    }
   ],
   "source": [
    ">>> x"
   ]
  },
  {
   "cell_type": "markdown",
   "metadata": {},
   "source": [
    "In einer Mathematischen Formel kann man dieses *x* genauso direkt verwenden"
   ]
  },
  {
   "cell_type": "code",
   "execution_count": 19,
   "metadata": {},
   "outputs": [
    {
     "data": {
      "text/plain": [
       "16"
      ]
     },
     "execution_count": 19,
     "metadata": {},
     "output_type": "execute_result"
    }
   ],
   "source": [
    ">>> x * 2"
   ]
  },
  {
   "cell_type": "markdown",
   "metadata": {},
   "source": [
    "Ebenfalls kann man den Wert von *x* in einer weiteren Variablen *y* speichern. Damit haben dann *x* und *y* den identischen Wert"
   ]
  },
  {
   "cell_type": "code",
   "execution_count": 20,
   "metadata": {},
   "outputs": [],
   "source": [
    ">>> y = x"
   ]
  },
  {
   "cell_type": "markdown",
   "metadata": {},
   "source": [
    "Der Unterschied zur Mathematik wird deutlich, wenn man eine einfache Berechnung betrachtet:\n",
    "\n",
    "In der Mathematik schreibt man:  \n",
    "*Summand_1 + Summand_2 = Summe*\n",
    "\n",
    "In Python (und den meisten anderen Programmiersprachen) schreibt man:  \n",
    "*Summe = Summand_1 + Summand_2*\n",
    "\n",
    "Der Variablenname steht immer vor dem **=**.\n",
    "\n",
    "Wie man die Variablen benennt bleibt bis auf ein paar kleine Regeln, jedem selbst überlassen. Es ist aber sinnvoll, Variablen einen sprechenden Namen zu geben, damit man auch noch Monate später direkt weiss, was diese Variable enthält.\n",
    "\n",
    "Die Regeln:\n",
    "**Ein Variablenname...**\n",
    "* besteht aus Buchstaben (a...z,A...Z), Ziffern (0..9) oder Unterstrichen (\\_)\n",
    "* beginnt mit einem Buchstaben oder einem Unterstrich\n",
    "* darf kein reserviertes Wort sein (z.B. *not*, *if*, etc.)\n",
    "* sollte keinem Funktionsnamen entsprechen (z.B. *abs*, *int*, etc.)\n",
    "\n",
    "Beispiel für gültige Namen:\n",
    "* richtig\n",
    "* _richtig\n",
    "* Richtig1\n",
    "* richtigerName\n",
    "* dieser_Name_ist_auch_erlaubt\n",
    "\n",
    "Beispiel für ungültige Namen:\n",
    "* 2_Werte\n",
    "* dieser-ist-ein-ungültiger"
   ]
  }
 ],
 "metadata": {
  "kernelspec": {
   "display_name": "Python 3",
   "language": "python",
   "name": "python3"
  },
  "language_info": {
   "codemirror_mode": {
    "name": "ipython",
    "version": 3
   },
   "file_extension": ".py",
   "mimetype": "text/x-python",
   "name": "python",
   "nbconvert_exporter": "python",
   "pygments_lexer": "ipython3",
   "version": "3.6.5"
  }
 },
 "nbformat": 4,
 "nbformat_minor": 2
}
